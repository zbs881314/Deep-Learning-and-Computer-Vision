{
 "cells": [
  {
   "cell_type": "markdown",
   "metadata": {},
   "source": [
    "<img src=\"../Pics/MLSb-T.png\" width=\"160\">\n",
    "<br><br>\n",
    "<center><u><H1>Activation Functions</H1></u></center>"
   ]
  },
  {
   "cell_type": "code",
   "execution_count": null,
   "metadata": {},
   "outputs": [],
   "source": [
    "import tensorflow as tf\n",
    "from keras.backend.tensorflow_backend import set_session\n",
    "config = tf.ConfigProto()\n",
    "config.gpu_options.allow_growth = True\n",
    "config.log_device_placement = True\n",
    "                                \n",
    "sess = tf.Session(config=config)\n",
    "set_session(sess)  "
   ]
  },
  {
   "cell_type": "code",
   "execution_count": null,
   "metadata": {},
   "outputs": [],
   "source": [
    "from keras.models import Sequential\n",
    "from keras.layers import Dense\n",
    "from keras.utils import to_categorical\n",
    "from keras.callbacks import Callback\n",
    "from keras.datasets import mnist\n",
    "from keras.utils.np_utils import to_categorical\n",
    "import numpy as np"
   ]
  },
  {
   "cell_type": "code",
   "execution_count": null,
   "metadata": {},
   "outputs": [],
   "source": [
    "(X_train_, y_train_), (X_test_, y_test_) = mnist.load_data()"
   ]
  },
  {
   "cell_type": "markdown",
   "metadata": {},
   "source": [
    "## Data Preprocessing:"
   ]
  },
  {
   "cell_type": "code",
   "execution_count": null,
   "metadata": {},
   "outputs": [],
   "source": [
    "# Normalize data\n",
    "X_train = X_train_.astype('float32') / 255.\n",
    "X_test = X_test_.astype('float32') / 255."
   ]
  },
  {
   "cell_type": "code",
   "execution_count": null,
   "metadata": {},
   "outputs": [],
   "source": [
    "# One hot encoding labels\n",
    "y_train = to_categorical(y_train_, 10)\n",
    "y_test = to_categorical(y_test_, 10)"
   ]
  },
  {
   "cell_type": "code",
   "execution_count": null,
   "metadata": {},
   "outputs": [],
   "source": [
    "# Flatten data\n",
    "X_train = np.reshape(X_train, (60000, 784))\n",
    "X_test = np.reshape(X_test, (10000, 784))"
   ]
  },
  {
   "cell_type": "markdown",
   "metadata": {},
   "source": [
    "## Creating NN with sigmoid activation function:"
   ]
  },
  {
   "cell_type": "code",
   "execution_count": null,
   "metadata": {},
   "outputs": [],
   "source": [
    "nn_sigmoid = Sequential()\n",
    "nn_sigmoid.add(Dense(700, input_dim=784, activation='sigmoid'))\n",
    "nn_sigmoid.add(Dense(700, activation='sigmoid'))\n",
    "nn_sigmoid.add(Dense(700, activation='sigmoid'))\n",
    "nn_sigmoid.add(Dense(700, activation='sigmoid'))\n",
    "nn_sigmoid.add(Dense(700, activation='sigmoid'))\n",
    "nn_sigmoid.add(Dense(350, activation='sigmoid'))\n",
    "nn_sigmoid.add(Dense(100, activation='sigmoid'))\n",
    "nn_sigmoid.add(Dense(10, activation='softmax'))"
   ]
  },
  {
   "cell_type": "code",
   "execution_count": null,
   "metadata": {},
   "outputs": [],
   "source": [
    "# Compile model with SGD\n",
    "nn_sigmoid.compile(loss='categorical_crossentropy',optimizer='sgd',metrics=['accuracy'])"
   ]
  },
  {
   "cell_type": "markdown",
   "metadata": {},
   "source": [
    "## Creating NN with the ReLU activation function:"
   ]
  },
  {
   "cell_type": "code",
   "execution_count": null,
   "metadata": {},
   "outputs": [],
   "source": [
    "nn_relu = Sequential()\n",
    "nn_relu.add(Dense(700, input_dim=784, activation='relu'))\n",
    "nn_relu.add(Dense(700, activation='relu'))\n",
    "nn_relu.add(Dense(700, activation='relu'))\n",
    "nn_relu.add(Dense(700, activation='relu'))\n",
    "nn_relu.add(Dense(700, activation='relu'))\n",
    "nn_relu.add(Dense(350, activation='relu'))\n",
    "nn_relu.add(Dense(100, activation='relu'))\n",
    "nn_relu.add(Dense(10, activation='softmax'))"
   ]
  },
  {
   "cell_type": "code",
   "execution_count": null,
   "metadata": {},
   "outputs": [],
   "source": [
    "# Compile model with SGD\n",
    "nn_relu.compile(loss='categorical_crossentropy', optimizer='sgd', metrics=['accuracy'])"
   ]
  },
  {
   "cell_type": "markdown",
   "metadata": {},
   "source": [
    "## Creating NN with the ELU activation function:"
   ]
  },
  {
   "cell_type": "code",
   "execution_count": null,
   "metadata": {},
   "outputs": [],
   "source": [
    "nn_elu = Sequential()\n",
    "nn_elu.add(Dense(700, input_dim=784, activation='elu'))\n",
    "nn_elu.add(Dense(700, activation='elu'))\n",
    "nn_elu.add(Dense(700, activation='elu'))\n",
    "nn_elu.add(Dense(700, activation='elu'))\n",
    "nn_elu.add(Dense(700, activation='elu'))\n",
    "nn_elu.add(Dense(350, activation='elu'))\n",
    "nn_elu.add(Dense(100, activation='elu'))\n",
    "nn_elu.add(Dense(10, activation='softmax'))"
   ]
  },
  {
   "cell_type": "code",
   "execution_count": null,
   "metadata": {},
   "outputs": [],
   "source": [
    "# Compile model with SGD\n",
    "nn_elu.compile(loss='categorical_crossentropy', optimizer='sgd',metrics=['accuracy'])"
   ]
  },
  {
   "cell_type": "markdown",
   "metadata": {},
   "source": [
    "## Callback function to store the loss values per batch:"
   ]
  },
  {
   "cell_type": "code",
   "execution_count": null,
   "metadata": {},
   "outputs": [],
   "source": [
    "import keras\n",
    "class history_loss(keras.callbacks.Callback):\n",
    "    def on_train_begin(self, logs={}):\n",
    "        self.losses = []\n",
    " \n",
    "    def on_batch_end(self, batch, logs={}):\n",
    "        self.losses.append(logs.get('loss'))"
   ]
  },
  {
   "cell_type": "markdown",
   "metadata": {},
   "source": [
    "## Training the models"
   ]
  },
  {
   "cell_type": "code",
   "execution_count": null,
   "metadata": {},
   "outputs": [],
   "source": [
    "n_epochs = 20\n",
    "batch_size = 256\n",
    "validation_split = 0.2"
   ]
  },
  {
   "cell_type": "code",
   "execution_count": null,
   "metadata": {},
   "outputs": [],
   "source": [
    "history_sigmoid = history_loss()\n",
    "nn_sigmoid.fit(X_train, y_train, epochs=n_epochs, batch_size=batch_size,\n",
    "                 callbacks=[history_sigmoid], validation_split=validation_split, verbose=2)"
   ]
  },
  {
   "cell_type": "code",
   "execution_count": null,
   "metadata": {},
   "outputs": [],
   "source": [
    "history_relu = history_loss()\n",
    "nn_relu.fit(X_train, y_train, epochs=n_epochs, batch_size=batch_size,\n",
    "                 callbacks=[history_relu], validation_split=validation_split, verbose=2)"
   ]
  },
  {
   "cell_type": "code",
   "execution_count": null,
   "metadata": {},
   "outputs": [],
   "source": [
    "history_elu = history_loss()\n",
    "nn_elu.fit(X_train, y_train, epochs=n_epochs, batch_size=batch_size,\n",
    "                 callbacks=[history_elu], validation_split=validation_split, verbose=2)"
   ]
  },
  {
   "cell_type": "markdown",
   "metadata": {},
   "source": [
    "## Plotting the losses:"
   ]
  },
  {
   "cell_type": "code",
   "execution_count": null,
   "metadata": {},
   "outputs": [],
   "source": [
    "import matplotlib.pyplot as plt\n",
    "% matplotlib inline\n",
    "plt.plot(np.arange(len(history_sigmoid.losses)),history_sigmoid.losses,label='sigmoid' )\n",
    "plt.plot(np.arange(len(history_relu.losses)),history_relu.losses ,label='relu' )\n",
    "plt.plot(np.arange(len(history_elu.losses)),history_elu.losses ,label='elu' )\n",
    "plt.title('Losses')\n",
    "plt.xlabel('number of batches')\n",
    "plt.legend(loc='best')\n",
    "plt.show()"
   ]
  },
  {
   "cell_type": "markdown",
   "metadata": {},
   "source": [
    "## References:\n",
    "\n",
    "https://arxiv.org/abs/1511.07289v1"
   ]
  }
 ],
 "metadata": {
  "kernelspec": {
   "display_name": "TF1.8_gpu",
   "language": "python",
   "name": "tf18_gpu"
  },
  "language_info": {
   "codemirror_mode": {
    "name": "ipython",
    "version": 3
   },
   "file_extension": ".py",
   "mimetype": "text/x-python",
   "name": "python",
   "nbconvert_exporter": "python",
   "pygments_lexer": "ipython3",
   "version": "3.6.5"
  }
 },
 "nbformat": 4,
 "nbformat_minor": 2
}
