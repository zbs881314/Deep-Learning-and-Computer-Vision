{
 "cells": [
  {
   "cell_type": "markdown",
   "metadata": {},
   "source": [
    "<img src=\"./Pics/MLSb-T.png\" width=\"160\">\n",
    "<br><br>\n",
    "<center><u><H1>Object Detection on images with YOLO</H1></u></center>"
   ]
  },
  {
   "cell_type": "code",
   "execution_count": null,
   "metadata": {},
   "outputs": [],
   "source": [
    "import cv2\n",
    "from darkflow.net.build import TFNet\n",
    "import matplotlib.pyplot as plt\n",
    "%config InlineBackend.figure_format = 'svg'\n",
    "import tensorflow as tf"
   ]
  },
  {
   "cell_type": "code",
   "execution_count": null,
   "metadata": {},
   "outputs": [],
   "source": [
    "config = tf.ConfigProto(log_device_placement=True)\n",
    "config.gpu_options.allow_growth = True\n",
    "with tf.Session(config=config) as sess:\n",
    "    options = {\n",
    "            'model': 'cfg/yolo.cfg',\n",
    "            'load': 'bin/yolo.weights',\n",
    "            'threshold': 0.1,\n",
    "            'gpu': 1.0\n",
    "                    }\n",
    "    tfnet = TFNet(options)"
   ]
  },
  {
   "cell_type": "markdown",
   "metadata": {},
   "source": [
    "## Loading an Image with OpenCV"
   ]
  },
  {
   "cell_type": "code",
   "execution_count": null,
   "metadata": {},
   "outputs": [],
   "source": [
    "img = cv2.imread('./sample_img/image5_720.jpg', cv2.IMREAD_COLOR)\n",
    "img = cv2.cvtColor(img, cv2.COLOR_BGR2RGB)"
   ]
  },
  {
   "cell_type": "markdown",
   "metadata": {},
   "source": [
    "## Make Predictions with YOLO"
   ]
  },
  {
   "cell_type": "code",
   "execution_count": null,
   "metadata": {},
   "outputs": [],
   "source": [
    "img.shape"
   ]
  },
  {
   "cell_type": "code",
   "execution_count": null,
   "metadata": {},
   "outputs": [],
   "source": [
    "result = tfnet.return_predict(img)"
   ]
  },
  {
   "cell_type": "code",
   "execution_count": null,
   "metadata": {},
   "outputs": [],
   "source": [
    "result"
   ]
  },
  {
   "cell_type": "markdown",
   "metadata": {},
   "source": [
    "## Adding Predictions to the image"
   ]
  },
  {
   "cell_type": "code",
   "execution_count": null,
   "metadata": {},
   "outputs": [],
   "source": [
    "plt.figure(figsize=(8,12))\n",
    "for r in result:   \n",
    "    tl = (r['topleft']['x'], r['topleft']['y'])\n",
    "    br = (r['bottomright']['x'], r['bottomright']['y'])\n",
    "    label = r['label']\n",
    "\n",
    "    img = cv2.rectangle(img, tl, br, (0, 255, 0), 5)\n",
    "    img = cv2.putText(img, label, tl, cv2.FONT_ITALIC, 0.8, (255, 255, 255), 2)\n",
    "\n",
    "plt.imshow(img)\n",
    "plt.show()"
   ]
  },
  {
   "cell_type": "markdown",
   "metadata": {},
   "source": [
    "## Detecting objects in a group of images:"
   ]
  },
  {
   "cell_type": "code",
   "execution_count": null,
   "metadata": {},
   "outputs": [],
   "source": [
    "import os"
   ]
  },
  {
   "cell_type": "code",
   "execution_count": null,
   "metadata": {},
   "outputs": [],
   "source": [
    "folder = './sample_img/'"
   ]
  },
  {
   "cell_type": "code",
   "execution_count": null,
   "metadata": {},
   "outputs": [],
   "source": [
    "path = os.path.join(folder)"
   ]
  },
  {
   "cell_type": "code",
   "execution_count": null,
   "metadata": {},
   "outputs": [],
   "source": [
    "for image in os.listdir(path):\n",
    "    img1 = cv2.imread(os.path.join(path,image), cv2.IMREAD_COLOR)\n",
    "    img1 = cv2.cvtColor(img1, cv2.COLOR_BGR2RGB)\n",
    "\n",
    "    result = tfnet.return_predict(img1) \n",
    "    \n",
    "    for r in result:   \n",
    "        tl = (r['topleft']['x'], r['topleft']['y'])\n",
    "        br = (r['bottomright']['x'], r['bottomright']['y'])\n",
    "        label = r['label']\n",
    "        img1 = cv2.rectangle(img1, tl, br, (0, 255, 0), 6)\n",
    "        #image, tof-left coordinates, bottom right coordinates, line color, thickness\n",
    "        img1 = cv2.putText(img1, label, tl, cv2.FONT_ITALIC, 0.8, (255, 255, 255), 2) \n",
    "        #image, label, tof-left coordinates, font, font size, font color, linetype \n",
    "    plt.imshow(img1)\n",
    "    plt.show()       "
   ]
  }
 ],
 "metadata": {
  "kernelspec": {
   "display_name": "TF1.10_gpu",
   "language": "python",
   "name": "tf110_gpu"
  },
  "language_info": {
   "codemirror_mode": {
    "name": "ipython",
    "version": 3
   },
   "file_extension": ".py",
   "mimetype": "text/x-python",
   "name": "python",
   "nbconvert_exporter": "python",
   "pygments_lexer": "ipython3",
   "version": "3.6.6"
  }
 },
 "nbformat": 4,
 "nbformat_minor": 2
}
