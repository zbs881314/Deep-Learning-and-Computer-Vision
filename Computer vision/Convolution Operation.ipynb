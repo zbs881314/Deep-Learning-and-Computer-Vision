{
 "cells": [
  {
   "cell_type": "markdown",
   "metadata": {},
   "source": [
    "<img src=\"../Pics/MLSb-T.png\" width=\"160\">\n",
    "<br><br>\n",
    "<center><u><H1>Convolution Operation</H1></u></center>"
   ]
  },
  {
   "cell_type": "markdown",
   "metadata": {},
   "source": [
    "### pip install scikit-image\n",
    "### conda install scikit-image"
   ]
  },
  {
   "cell_type": "code",
   "execution_count": null,
   "metadata": {},
   "outputs": [],
   "source": [
    "from scipy.signal import convolve2d\n",
    "from skimage.data import coffee\n",
    "from skimage import color\n",
    "import matplotlib.pyplot as plt\n",
    "%matplotlib inline"
   ]
  },
  {
   "cell_type": "code",
   "execution_count": null,
   "metadata": {},
   "outputs": [],
   "source": [
    "plt.imshow(coffee())\n",
    "plt.show()"
   ]
  },
  {
   "cell_type": "code",
   "execution_count": null,
   "metadata": {},
   "outputs": [],
   "source": [
    "img = color.rgb2gray(coffee())\n",
    "plt.imshow(img, cmap=plt.cm.gray)\n",
    "plt.axis('off')\n",
    "plt.show()"
   ]
  },
  {
   "cell_type": "markdown",
   "metadata": {},
   "source": [
    "## Defining Kernels:"
   ]
  },
  {
   "cell_type": "code",
   "execution_count": null,
   "metadata": {},
   "outputs": [],
   "source": [
    "kernel_edge_detect1 = np.array([[1.,0.,-1.],\n",
    "                                [0.,0.,0.],\n",
    "                                [-1.,0.,1.]])\n",
    "\n",
    "kernel_edge_detect2 = np.array([[0.,1.,0.],\n",
    "                                [1.,-4.,1.],\n",
    "                                [0.,1.,0.]])\n",
    "\n",
    "kernel_edge_detect3 = np.array([[-1.,-1.,-1.],\n",
    "                                [-1.,8.,-1.],\n",
    "                                [-1.,-1.,-1.]])\n",
    "\n",
    "kernel_sharpen = np.array([[0.,-1.,0.],\n",
    "                           [-1.,5.,-1.],\n",
    "                           [0.,-1.,0.]])\n",
    "\n",
    "kernel_sharpen2 = np.array([[-1.,-1.,-1.],\n",
    "                           [-1.,9.,-1.],\n",
    "                           [-1.,-1.,-1.]])\n",
    "\n",
    "kernel_blur = np.array([[1.,1.,1.],\n",
    "                        [1.,1.,1.],\n",
    "                        [1.,1.,1.]])"
   ]
  },
  {
   "cell_type": "code",
   "execution_count": null,
   "metadata": {},
   "outputs": [],
   "source": [
    "img_edge1 = convolve2d(img, kernel_edge_detect1, 'valid')\n",
    "plt.imshow(img_edge1, cmap=plt.cm.gray)\n",
    "plt.axis('off')\n",
    "plt.show()"
   ]
  },
  {
   "cell_type": "code",
   "execution_count": null,
   "metadata": {},
   "outputs": [],
   "source": [
    "img_edge2 = convolve2d(img, kernel_edge_detect2, 'valid')\n",
    "plt.imshow(img_edge2, cmap=plt.cm.gray)\n",
    "plt.axis('off')\n",
    "plt.show()"
   ]
  },
  {
   "cell_type": "code",
   "execution_count": null,
   "metadata": {},
   "outputs": [],
   "source": [
    "img_edge3 = convolve2d(img, kernel_edge_detect3, 'valid')\n",
    "plt.imshow(img_edge3, cmap=plt.cm.gray)\n",
    "plt.axis('off')\n",
    "plt.show()"
   ]
  },
  {
   "cell_type": "code",
   "execution_count": null,
   "metadata": {},
   "outputs": [],
   "source": [
    "img_sharpen = convolve2d(img, kernel_sharpen, 'valid')\n",
    "plt.imshow(img_sharpen, cmap=plt.cm.gray)\n",
    "plt.axis('off')\n",
    "plt.show()"
   ]
  },
  {
   "cell_type": "code",
   "execution_count": null,
   "metadata": {},
   "outputs": [],
   "source": [
    "img_sharpen2 = convolve2d(img, kernel_sharpen2, 'valid')\n",
    "plt.imshow(img_sharpen2, cmap=plt.cm.gray)\n",
    "plt.axis('off')\n",
    "plt.show()"
   ]
  },
  {
   "cell_type": "code",
   "execution_count": null,
   "metadata": {},
   "outputs": [],
   "source": [
    "img_blur = convolve2d(img, kernel_blur, 'valid')\n",
    "plt.imshow(img_blur, cmap=plt.cm.gray)\n",
    "plt.axis('off')\n",
    "plt.show()"
   ]
  },
  {
   "cell_type": "markdown",
   "metadata": {},
   "source": [
    "## Reference:\n",
    "\n",
    "https://docs.scipy.org/doc/scipy/reference/generated/scipy.signal.convolve2d.html"
   ]
  }
 ],
 "metadata": {
  "kernelspec": {
   "display_name": "Python 3",
   "language": "python",
   "name": "python3"
  },
  "language_info": {
   "codemirror_mode": {
    "name": "ipython",
    "version": 3
   },
   "file_extension": ".py",
   "mimetype": "text/x-python",
   "name": "python",
   "nbconvert_exporter": "python",
   "pygments_lexer": "ipython3",
   "version": "3.6.5"
  }
 },
 "nbformat": 4,
 "nbformat_minor": 2
}
